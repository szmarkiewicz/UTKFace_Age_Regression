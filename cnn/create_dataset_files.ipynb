{
 "cells": [
  {
   "cell_type": "code",
   "execution_count": 1,
   "id": "48f2194c-137e-43ac-a8e6-5870ecb1ac72",
   "metadata": {},
   "outputs": [],
   "source": [
    "import numpy as np\n",
    "import pandas as pd\n",
    "import cv2\n",
    "import statistics\n",
    "import os\n",
    "import matplotlib.pyplot as plt\n",
    "import pandas as pd\n",
    "from sklearn.utils import shuffle\n",
    "import datetime\n",
    "import pickle\n",
    "from collections import defaultdict\n",
    "import shutil\n",
    "import random\n",
    "\n",
    "from PIL import Image \n",
    "from keras.preprocessing.image import ImageDataGenerator"
   ]
  },
  {
   "cell_type": "code",
   "execution_count": 2,
   "id": "dcf38f4c",
   "metadata": {
    "collapsed": false
   },
   "outputs": [],
   "source": [
    "directory = \"cnn\""
   ]
  },
  {
   "cell_type": "code",
   "execution_count": 3,
   "id": "003bccdc",
   "metadata": {},
   "outputs": [],
   "source": [
    "# start over\n",
    "try:\n",
    "    shutil.rmtree(f\"utk-data/{directory}\")\n",
    "except:\n",
    "    pass\n",
    "\n",
    "\n",
    "os.mkdir(f\"utk-data/{directory}\")"
   ]
  },
  {
   "cell_type": "code",
   "execution_count": 4,
   "id": "b9fb8372",
   "metadata": {},
   "outputs": [],
   "source": [
    "dataset_directory = f\"utk-data/UTKFace/\"\n",
    "\n",
    "files = os.listdir(dataset_directory)\n",
    "files = shuffle(files, random_state=0)\n",
    "\n",
    "images = defaultdict(list)\n",
    "train_image= []\n",
    "test_image = []\n",
    "\n",
    "train_age = []\n",
    "test_age = []\n",
    "\n",
    "for file in files:\n",
    "    split_var = file.split('_')\n",
    "    images[split_var[0]].append(file)\n",
    "\n",
    "\n",
    "for age in range(1, 76):\n",
    "    size = len(images[str(age)])\n",
    "    images[str(age)] = shuffle(images[str(age)], random_state=0)\n",
    "\n",
    "    if size >= 1000:\n",
    "        for i in range(0, 900):\n",
    "            img = cv2.imread(f\"{dataset_directory}/{images[str(age)][i]}\")\n",
    "            img = cv2.cvtColor(img, cv2.COLOR_BGR2RGB) \n",
    "            img = cv2.resize(img, (100, 100))\n",
    "            train_image.append(img)\n",
    "            train_age.append(str(age))\n",
    "        \n",
    "        for i in range(900, 1000):\n",
    "            img = cv2.imread(f\"{dataset_directory}/{images[str(age)][i]}\")\n",
    "            img = cv2.cvtColor(img, cv2.COLOR_BGR2RGB) \n",
    "            img = cv2.resize(img, (100, 100))\n",
    "            test_image.append(img)\n",
    "            test_age.append(str(age))\n",
    "        \n",
    "    else: \n",
    "        train_sample_size = int(size*(0.9))\n",
    "\n",
    "        for i in range(0, train_sample_size):\n",
    "            img = cv2.imread(f\"{dataset_directory}/{images[str(age)][i]}\")\n",
    "            img = cv2.cvtColor(img, cv2.COLOR_BGR2RGB) \n",
    "            img = cv2.resize(img, (100, 100))\n",
    "            train_image.append(img)\n",
    "            train_age.append(str(age))\n",
    "        \n",
    "        for i in range(train_sample_size, size):\n",
    "            img = cv2.imread(f\"{dataset_directory}/{images[str(age)][i]}\")\n",
    "            img = cv2.cvtColor(img, cv2.COLOR_BGR2RGB) \n",
    "            img = cv2.resize(img, (100, 100))\n",
    "            test_image.append(img)\n",
    "            test_age.append(str(age))\n",
    "\n",
    "\n",
    "train_image, train_age = shuffle(train_image, train_age, random_state=0)\n",
    "test_image, test_age = shuffle(test_image, test_age, random_state=0)"
   ]
  },
  {
   "cell_type": "code",
   "execution_count": 18,
   "id": "7541e604",
   "metadata": {},
   "outputs": [],
   "source": [
    "pickle_out = open(f\"utk-data/{directory}/test_image\",'wb')\n",
    "pickle.dump(test_image, pickle_out)\n",
    "pickle_out.close()\n",
    "\n",
    "pickle_out = open(f\"utk-data/{directory}/train_image\",'wb')\n",
    "pickle.dump(train_image, pickle_out)\n",
    "pickle_out.close()\n",
    "\n",
    "pickle_out = open(f\"utk-data/{directory}/test_age\",'wb')\n",
    "pickle.dump(test_age, pickle_out)\n",
    "pickle_out.close()\n",
    "\n",
    "pickle_out = open(f\"utk-data/{directory}/train_age\",'wb')\n",
    "pickle.dump(train_age, pickle_out)\n",
    "pickle_out.close()"
   ]
  }
 ],
 "metadata": {
  "kernelspec": {
   "display_name": "Python 3",
   "language": "python",
   "name": "python3"
  },
  "language_info": {
   "codemirror_mode": {
    "name": "ipython",
    "version": 3
   },
   "file_extension": ".py",
   "mimetype": "text/x-python",
   "name": "python",
   "nbconvert_exporter": "python",
   "pygments_lexer": "ipython3",
   "version": "3.10.9"
  },
  "vscode": {
   "interpreter": {
    "hash": "f365c486bda27d83f9e0538d4e28aa550baded362054f4d8807a10c9eb7c56b7"
   }
  }
 },
 "nbformat": 4,
 "nbformat_minor": 5
}
